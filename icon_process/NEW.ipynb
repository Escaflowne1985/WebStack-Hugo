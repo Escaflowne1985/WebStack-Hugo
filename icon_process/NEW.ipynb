{
 "cells": [
  {
   "cell_type": "code",
   "execution_count": 1,
   "metadata": {},
   "outputs": [],
   "source": [
    "import sqlite3\n",
    "import pandas as pd\n",
    "sql = sqlite3.connect(\"../SiteNavigation/db.sqlite3\")\n",
    "\n",
    "data = sql.execute(\"select * from DataSettings_siteinfo\").fetchall()\n",
    "df = pd.DataFrame(data)\n",
    "df.columns = [\"id\",\"name\",\"des\",\"url\",\"logo\",\"click\",\"item_id\"]\n",
    "\n",
    "proxies = {'http': 'http://127.0.0.1:19180', 'https': 'http://127.0.0.1:19180'}"
   ]
  },
  {
   "cell_type": "code",
   "execution_count": 2,
   "metadata": {},
   "outputs": [
    {
     "data": {
      "text/html": [
       "<div>\n",
       "<style scoped>\n",
       "    .dataframe tbody tr th:only-of-type {\n",
       "        vertical-align: middle;\n",
       "    }\n",
       "\n",
       "    .dataframe tbody tr th {\n",
       "        vertical-align: top;\n",
       "    }\n",
       "\n",
       "    .dataframe thead th {\n",
       "        text-align: right;\n",
       "    }\n",
       "</style>\n",
       "<table border=\"1\" class=\"dataframe\">\n",
       "  <thead>\n",
       "    <tr style=\"text-align: right;\">\n",
       "      <th></th>\n",
       "      <th>id</th>\n",
       "      <th>name</th>\n",
       "      <th>des</th>\n",
       "      <th>url</th>\n",
       "      <th>logo</th>\n",
       "      <th>click</th>\n",
       "      <th>item_id</th>\n",
       "    </tr>\n",
       "  </thead>\n",
       "  <tbody>\n",
       "    <tr>\n",
       "      <th>0</th>\n",
       "      <td>1</td>\n",
       "      <td>百度</td>\n",
       "      <td>百度搜索</td>\n",
       "      <td>http://www.baidu.com</td>\n",
       "      <td>SiteLogo/百度.jpg</td>\n",
       "      <td>0</td>\n",
       "      <td>1</td>\n",
       "    </tr>\n",
       "    <tr>\n",
       "      <th>1</th>\n",
       "      <td>2</td>\n",
       "      <td>谷歌</td>\n",
       "      <td>谷歌搜索</td>\n",
       "      <td>http://www.google.com</td>\n",
       "      <td>SiteLogo/谷歌.jpg</td>\n",
       "      <td>0</td>\n",
       "      <td>1</td>\n",
       "    </tr>\n",
       "    <tr>\n",
       "      <th>2</th>\n",
       "      <td>3</td>\n",
       "      <td>必应</td>\n",
       "      <td>必应搜索</td>\n",
       "      <td>http://www.bing.com</td>\n",
       "      <td>SiteLogo/必应.jpg</td>\n",
       "      <td>0</td>\n",
       "      <td>1</td>\n",
       "    </tr>\n",
       "    <tr>\n",
       "      <th>3</th>\n",
       "      <td>4</td>\n",
       "      <td>维基百科</td>\n",
       "      <td>维基百科</td>\n",
       "      <td>https://www.wikipedia.org/</td>\n",
       "      <td>SiteLogo/维基百科.jpg</td>\n",
       "      <td>0</td>\n",
       "      <td>1</td>\n",
       "    </tr>\n",
       "    <tr>\n",
       "      <th>4</th>\n",
       "      <td>5</td>\n",
       "      <td>度衍</td>\n",
       "      <td>免费的知识产权搜索工具</td>\n",
       "      <td>https://www.uyanip.com/</td>\n",
       "      <td>SiteLogo/度衍.jpg</td>\n",
       "      <td>0</td>\n",
       "      <td>2</td>\n",
       "    </tr>\n",
       "  </tbody>\n",
       "</table>\n",
       "</div>"
      ],
      "text/plain": [
       "   id  name          des                         url               logo  \\\n",
       "0   1    百度         百度搜索        http://www.baidu.com    SiteLogo/百度.jpg   \n",
       "1   2    谷歌         谷歌搜索       http://www.google.com    SiteLogo/谷歌.jpg   \n",
       "2   3    必应         必应搜索         http://www.bing.com    SiteLogo/必应.jpg   \n",
       "3   4  维基百科         维基百科  https://www.wikipedia.org/  SiteLogo/维基百科.jpg   \n",
       "4   5    度衍  免费的知识产权搜索工具     https://www.uyanip.com/    SiteLogo/度衍.jpg   \n",
       "\n",
       "   click  item_id  \n",
       "0      0        1  \n",
       "1      0        1  \n",
       "2      0        1  \n",
       "3      0        1  \n",
       "4      0        2  "
      ]
     },
     "execution_count": 2,
     "metadata": {},
     "output_type": "execute_result"
    }
   ],
   "source": [
    "df.head()"
   ]
  },
  {
   "cell_type": "code",
   "execution_count": 3,
   "metadata": {},
   "outputs": [],
   "source": [
    "import os,base64\n",
    "import requests\n",
    "from PIL import Image\n",
    "from io import BytesIO\n",
    "from urllib.parse import urlparse"
   ]
  },
  {
   "cell_type": "code",
   "execution_count": null,
   "metadata": {},
   "outputs": [],
   "source": [
    "undata_list = []\n",
    "for i in range(len(df)):\n",
    "    try:\n",
    "        url = df[\"url\"][i]\n",
    "        result = urlparse(url)\n",
    "        ico_url = result.scheme+\"://\" + result.netloc + \"/favicon.ico\"\n",
    "        html_ico = requests.get(ico_url, proxies=proxies)\n",
    "        image = Image.open(BytesIO(html_ico.content))\n",
    "        ls_f = base64.b64encode(BytesIO(html_ico.content).read())\n",
    "        imgdata = base64.b64decode(ls_f)\n",
    "        with open('SiteLogo/{}.jpg'.format(df[\"name\"][i]), 'wb') as f:\n",
    "            f.write(imgdata)\n",
    "    except:\n",
    "#         print(df[\"name\"][i],df[\"url\"][i])\n",
    "        undata_list.append((df[\"name\"][i],df[\"url\"][i]))"
   ]
  },
  {
   "cell_type": "code",
   "execution_count": 4,
   "metadata": {},
   "outputs": [],
   "source": [
    "import os\n",
    "import shutil\n",
    "\n",
    "# 旧的列表\n",
    "jpg_list = os.listdir(\"SiteLogo/\")\n",
    "# 数据列表中的图\n",
    "info_jpg_list = [i.replace(\"SiteLogo/\",\"\") for i in df[\"logo\"].to_list()]\n",
    "\n",
    "# 差异不存在的图\n",
    "diff_list = list(set(info_jpg_list) - set(jpg_list))"
   ]
  },
  {
   "cell_type": "code",
   "execution_count": 5,
   "metadata": {},
   "outputs": [
    {
     "name": "stdout",
     "output_type": "stream",
     "text": [
      "Amazon review data（亚马逊产品数据）.jpg\n",
      "Open Source Game Clones.jpg\n",
      "MNIST.jpg\n",
      "Amazon Review Data (2018)（亚马逊评论数据 (2018)）.jpg\n",
      "Visual Genome（视觉基因组）.jpg\n",
      "UCI Machine Learning Repository.jpg\n",
      "Google Dataset Search.jpg\n",
      "Jester Collaborative Filtering Dataset （Jester 协同过滤数据集).jpg\n",
      "US Healthcare Data（美国医疗保健数据）.jpg\n",
      "Spoken Wikipedia Corpora（口语维基百科语料库）.jpg\n",
      "COIL100.jpg\n",
      "OpinRank Review Dataset（OpinRank 审查数据集）.jpg\n",
      "Legal Case Reports Dataset（法律案例报告数据集）.jpg\n",
      "CERN Open Data Portal.jpg\n",
      "Places.jpg\n",
      "The NLP Index（NLP 指数）.jpg\n",
      "Registry of Open Data on AWS.jpg\n",
      "rdatasets.jpg\n",
      "Free Music Archive.jpg\n",
      "Kinetics-700.jpg\n",
      "ImageNet（图片网络）.jpg\n",
      "Sentiment140.jpg\n",
      "Visual QA（视觉问答）.jpg\n",
      "Medical Imaging Annotation - V7 Darwin.jpg\n",
      "CIFAR-10.jpg\n",
      "FSD.jpg\n",
      "Global Financial Development (GFD)（全球金融发展 (GFD)）.jpg\n",
      "Lionbridge AI Datasets.jpg\n",
      "CMU Libraries.jpg\n",
      "Stanford Dogs Dataset（斯坦福犬数据集）.jpg\n",
      "EU Open Data Portal.jpg\n",
      "20 Newsgroups（20 个新闻组）.jpg\n",
      "Datahub .jpg\n",
      "IMDB Movie Reviews Dataset（IMDB 电影评论数据集）.jpg\n",
      "Labeled Faces in the Wild（标记的面孔）.jpg\n",
      "MIMIC-III.jpg\n",
      "Financial Times Markets Data（金融时报市场数据）.jpg\n",
      "Labelme.jpg\n"
     ]
    }
   ],
   "source": [
    "for i in diff_list:\n",
    "    print(i)\n",
    "    shutil.copy(\"SiteLogo/default.jpg\",\"SiteLogo/\" + i)"
   ]
  },
  {
   "cell_type": "code",
   "execution_count": null,
   "metadata": {},
   "outputs": [],
   "source": []
  }
 ],
 "metadata": {
  "kernelspec": {
   "display_name": "Python 3 (ipykernel)",
   "language": "python",
   "name": "python3"
  },
  "language_info": {
   "codemirror_mode": {
    "name": "ipython",
    "version": 3
   },
   "file_extension": ".py",
   "mimetype": "text/x-python",
   "name": "python",
   "nbconvert_exporter": "python",
   "pygments_lexer": "ipython3",
   "version": "3.9.12"
  },
  "toc": {
   "base_numbering": 1,
   "nav_menu": {},
   "number_sections": true,
   "sideBar": true,
   "skip_h1_title": false,
   "title_cell": "Table of Contents",
   "title_sidebar": "Contents",
   "toc_cell": false,
   "toc_position": {},
   "toc_section_display": true,
   "toc_window_display": false
  }
 },
 "nbformat": 4,
 "nbformat_minor": 2
}

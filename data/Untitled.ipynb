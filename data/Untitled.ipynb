{
 "cells": [
  {
   "cell_type": "code",
   "execution_count": 8,
   "id": "bf218495",
   "metadata": {},
   "outputs": [],
   "source": [
    "import yaml\n",
    "import pandas as pd"
   ]
  },
  {
   "cell_type": "code",
   "execution_count": 76,
   "id": "6c15a1e4",
   "metadata": {},
   "outputs": [],
   "source": [
    "df = pd.read_excel(\"data.xlsx\")\n",
    "df = df[df[\"is_use\"]==1]\n",
    "df.reset_index(drop=True,inplace=True)"
   ]
  },
  {
   "cell_type": "code",
   "execution_count": 77,
   "id": "c9f5e3ec",
   "metadata": {},
   "outputs": [],
   "source": [
    "# 构建一级菜单\n",
    "taxonomy_list = df[\"taxonomy\"].unique()\n",
    "# 构建taxonomy对应的icon字典\n",
    "taxonomy_icon_dict = df.set_index(\"taxonomy\")[\"icon\"].to_dict()"
   ]
  },
  {
   "cell_type": "code",
   "execution_count": 78,
   "id": "0f2ba744",
   "metadata": {},
   "outputs": [
    {
     "data": {
      "text/plain": [
       "{'日常常用': 'fas fa-flask fa-lg',\n",
       " 'Python 全栈': 'fas fa-flask fa-lg',\n",
       " '办公常用': 'fas fa-flask fa-lg',\n",
       " '产品设计': 'fas fa-flask fa-lg',\n",
       " '游戏源码': 'fas fa-flask fa-lg',\n",
       " '综合数据': 'fas fa-flask fa-lg'}"
      ]
     },
     "execution_count": 78,
     "metadata": {},
     "output_type": "execute_result"
    }
   ],
   "source": [
    "taxonomy_icon_dict"
   ]
  },
  {
   "cell_type": "code",
   "execution_count": 79,
   "id": "79d1bcf5",
   "metadata": {},
   "outputs": [],
   "source": [
    "all_list = []\n",
    "for key_ in taxonomy_list:\n",
    "    dict_each_one = {}\n",
    "    for i in range(len(df)):\n",
    "        dict_each_one[\"taxonomy\"]=key_\n",
    "        dict_each_one[\"icon\"]=taxonomy_icon_dict[key_]\n",
    "        dict_each_one[\"list\"]=[]\n",
    "    all_list.append(dict_each_one)"
   ]
  },
  {
   "cell_type": "code",
   "execution_count": 80,
   "id": "16f2da19",
   "metadata": {},
   "outputs": [],
   "source": [
    "# 构建二级菜单\n",
    "term_list = df[\"term\"].unique()\n",
    "# 构建taxonomy对应的icon字典\n",
    "term_taxonomy_dict = df.set_index(\"term\")[\"taxonomy\"].to_dict()"
   ]
  },
  {
   "cell_type": "code",
   "execution_count": 97,
   "id": "928206c6",
   "metadata": {},
   "outputs": [],
   "source": [
    "term_list_all = []\n",
    "for term_ in term_list:\n",
    "    dict_each_one = {}\n",
    "    # 先构建list中的term\n",
    "    dict_each_one[\"term\"]=term_\n",
    "    links_list = []\n",
    "    for i in range(len(df)):\n",
    "        dict_each_one_temp = {}\n",
    "        if df[\"term\"][i] == term_:\n",
    "#             print(df[\"term\"][i])\n",
    "            dict_each_one_temp[\"title\"] = df[\"title\"][i]\n",
    "            dict_each_one_temp[\"logo\"] = df[\"logo\"][i]\n",
    "            dict_each_one_temp[\"url\"] = df[\"url\"][i]\n",
    "            dict_each_one_temp[\"description\"] = df[\"description\"][i]\n",
    "        links_list.append(dict_each_one_temp) \n",
    "        links_list = [i for i in links_list if i !={}]\n",
    "    dict_each_one[\"links\"]=links_list\n",
    "    term_list_all.append(dict_each_one)"
   ]
  },
  {
   "cell_type": "code",
   "execution_count": 111,
   "id": "354573ee",
   "metadata": {},
   "outputs": [],
   "source": [
    "# 将二级菜单合并到1级中\n",
    "for i in all_list:\n",
    "    for j in term_list_all:\n",
    "        term_name = j[\"term\"]\n",
    "        if i[\"taxonomy\"] == term_taxonomy_dict[term_name]:\n",
    "            i[\"list\"].append(j)"
   ]
  },
  {
   "cell_type": "code",
   "execution_count": 40,
   "id": "d8c31c6b",
   "metadata": {
    "code_folding": []
   },
   "outputs": [],
   "source": [
    "d = [\n",
    "    {\n",
    "    \"taxonomy\": \"科研办公\",\n",
    "    \"icon\": \"fas fa-flask fa-lg\",\n",
    "    \"list\": [\n",
    "        {\n",
    "            \"term\": \"生物信息\",\n",
    "            \"links\":[\n",
    "                {\n",
    "                    \"title\": \"NCBI\",\n",
    "                    \"logo\": \"ncbi.jpg\",\n",
    "                    \"url\": \"https://www.ncbi.nlm.nih.gov/\",\n",
    "                    \"description\": \"National Center for Biotechnology Information. \"\n",
    "                },\n",
    "                {\n",
    "                    \"title\": \"Bioconda\",\n",
    "                    \"logo\": \"bioconda.jpg\",\n",
    "                    \"url\": \"https://anaconda.org/bioconda/\",\n",
    "                    \"description\": \"Bioconda :: Anaconda.org.\"\n",
    "                }\n",
    "            ]\n",
    "        }\n",
    "    ]\n",
    "    }\n",
    "]"
   ]
  },
  {
   "cell_type": "code",
   "execution_count": 114,
   "id": "76a4dd9e",
   "metadata": {},
   "outputs": [],
   "source": [
    "with open(\"webstack.yml\", 'w',encoding=\"utf8\") as f:\n",
    "    yaml.dump(all_list,f,allow_unicode=True, default_flow_style=False,sort_keys=False)"
   ]
  },
  {
   "cell_type": "code",
   "execution_count": null,
   "id": "4bb831b6",
   "metadata": {},
   "outputs": [],
   "source": []
  },
  {
   "cell_type": "code",
   "execution_count": null,
   "id": "09f287b0",
   "metadata": {},
   "outputs": [],
   "source": []
  },
  {
   "cell_type": "code",
   "execution_count": null,
   "id": "c1c44469",
   "metadata": {},
   "outputs": [],
   "source": []
  }
 ],
 "metadata": {
  "kernelspec": {
   "display_name": "Python 3 (ipykernel)",
   "language": "python",
   "name": "python3"
  },
  "language_info": {
   "codemirror_mode": {
    "name": "ipython",
    "version": 3
   },
   "file_extension": ".py",
   "mimetype": "text/x-python",
   "name": "python",
   "nbconvert_exporter": "python",
   "pygments_lexer": "ipython3",
   "version": "3.9.12"
  },
  "toc": {
   "base_numbering": 1,
   "nav_menu": {},
   "number_sections": true,
   "sideBar": true,
   "skip_h1_title": false,
   "title_cell": "Table of Contents",
   "title_sidebar": "Contents",
   "toc_cell": false,
   "toc_position": {},
   "toc_section_display": true,
   "toc_window_display": false
  }
 },
 "nbformat": 4,
 "nbformat_minor": 5
}

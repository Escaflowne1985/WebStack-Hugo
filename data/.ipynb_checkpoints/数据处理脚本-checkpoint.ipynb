{
 "cells": [
  {
   "cell_type": "code",
   "execution_count": 48,
   "metadata": {},
   "outputs": [],
   "source": [
    "import pandas as pd"
   ]
  },
  {
   "cell_type": "code",
   "execution_count": 49,
   "metadata": {
    "collapsed": true
   },
   "outputs": [
    {
     "ename": "ValueError",
     "evalue": "Expected object or value",
     "output_type": "error",
     "traceback": [
      "\u001b[1;31m---------------------------------------------------------------------------\u001b[0m",
      "\u001b[1;31mValueError\u001b[0m                                Traceback (most recent call last)",
      "\u001b[1;32m<ipython-input-49-4a8e14e033cc>\u001b[0m in \u001b[0;36m<module>\u001b[1;34m()\u001b[0m\n\u001b[1;32m----> 1\u001b[1;33m \u001b[0mdf\u001b[0m \u001b[1;33m=\u001b[0m \u001b[0mpd\u001b[0m\u001b[1;33m.\u001b[0m\u001b[0mread_json\u001b[0m\u001b[1;33m(\u001b[0m\u001b[1;34m\"nav.json\"\u001b[0m\u001b[1;33m,\u001b[0m\u001b[0mencoding\u001b[0m\u001b[1;33m=\u001b[0m\u001b[1;34m\"utf8\"\u001b[0m\u001b[1;33m)\u001b[0m\u001b[1;33m.\u001b[0m\u001b[0mT\u001b[0m\u001b[1;33m\u001b[0m\u001b[0m\n\u001b[0m",
      "\u001b[1;32mD:\\MyTools\\Anaconda3_5.2.0\\lib\\site-packages\\pandas\\util\\_decorators.py\u001b[0m in \u001b[0;36mwrapper\u001b[1;34m(*args, **kwargs)\u001b[0m\n\u001b[0;32m    197\u001b[0m                 \u001b[1;32melse\u001b[0m\u001b[1;33m:\u001b[0m\u001b[1;33m\u001b[0m\u001b[0m\n\u001b[0;32m    198\u001b[0m                     \u001b[0mkwargs\u001b[0m\u001b[1;33m[\u001b[0m\u001b[0mnew_arg_name\u001b[0m\u001b[1;33m]\u001b[0m \u001b[1;33m=\u001b[0m \u001b[0mnew_arg_value\u001b[0m\u001b[1;33m\u001b[0m\u001b[0m\n\u001b[1;32m--> 199\u001b[1;33m             \u001b[1;32mreturn\u001b[0m \u001b[0mfunc\u001b[0m\u001b[1;33m(\u001b[0m\u001b[1;33m*\u001b[0m\u001b[0margs\u001b[0m\u001b[1;33m,\u001b[0m \u001b[1;33m**\u001b[0m\u001b[0mkwargs\u001b[0m\u001b[1;33m)\u001b[0m\u001b[1;33m\u001b[0m\u001b[0m\n\u001b[0m\u001b[0;32m    200\u001b[0m \u001b[1;33m\u001b[0m\u001b[0m\n\u001b[0;32m    201\u001b[0m         \u001b[1;32mreturn\u001b[0m \u001b[0mcast\u001b[0m\u001b[1;33m(\u001b[0m\u001b[0mF\u001b[0m\u001b[1;33m,\u001b[0m \u001b[0mwrapper\u001b[0m\u001b[1;33m)\u001b[0m\u001b[1;33m\u001b[0m\u001b[0m\n",
      "\u001b[1;32mD:\\MyTools\\Anaconda3_5.2.0\\lib\\site-packages\\pandas\\util\\_decorators.py\u001b[0m in \u001b[0;36mwrapper\u001b[1;34m(*args, **kwargs)\u001b[0m\n\u001b[0;32m    294\u001b[0m                 )\n\u001b[0;32m    295\u001b[0m                 \u001b[0mwarnings\u001b[0m\u001b[1;33m.\u001b[0m\u001b[0mwarn\u001b[0m\u001b[1;33m(\u001b[0m\u001b[0mmsg\u001b[0m\u001b[1;33m,\u001b[0m \u001b[0mFutureWarning\u001b[0m\u001b[1;33m,\u001b[0m \u001b[0mstacklevel\u001b[0m\u001b[1;33m=\u001b[0m\u001b[0mstacklevel\u001b[0m\u001b[1;33m)\u001b[0m\u001b[1;33m\u001b[0m\u001b[0m\n\u001b[1;32m--> 296\u001b[1;33m             \u001b[1;32mreturn\u001b[0m \u001b[0mfunc\u001b[0m\u001b[1;33m(\u001b[0m\u001b[1;33m*\u001b[0m\u001b[0margs\u001b[0m\u001b[1;33m,\u001b[0m \u001b[1;33m**\u001b[0m\u001b[0mkwargs\u001b[0m\u001b[1;33m)\u001b[0m\u001b[1;33m\u001b[0m\u001b[0m\n\u001b[0m\u001b[0;32m    297\u001b[0m \u001b[1;33m\u001b[0m\u001b[0m\n\u001b[0;32m    298\u001b[0m         \u001b[1;32mreturn\u001b[0m \u001b[0mwrapper\u001b[0m\u001b[1;33m\u001b[0m\u001b[0m\n",
      "\u001b[1;32mD:\\MyTools\\Anaconda3_5.2.0\\lib\\site-packages\\pandas\\io\\json\\_json.py\u001b[0m in \u001b[0;36mread_json\u001b[1;34m(path_or_buf, orient, typ, dtype, convert_axes, convert_dates, keep_default_dates, numpy, precise_float, date_unit, encoding, lines, chunksize, compression, nrows)\u001b[0m\n\u001b[0;32m    616\u001b[0m         \u001b[1;32mreturn\u001b[0m \u001b[0mjson_reader\u001b[0m\u001b[1;33m\u001b[0m\u001b[0m\n\u001b[0;32m    617\u001b[0m \u001b[1;33m\u001b[0m\u001b[0m\n\u001b[1;32m--> 618\u001b[1;33m     \u001b[0mresult\u001b[0m \u001b[1;33m=\u001b[0m \u001b[0mjson_reader\u001b[0m\u001b[1;33m.\u001b[0m\u001b[0mread\u001b[0m\u001b[1;33m(\u001b[0m\u001b[1;33m)\u001b[0m\u001b[1;33m\u001b[0m\u001b[0m\n\u001b[0m\u001b[0;32m    619\u001b[0m     \u001b[1;32mif\u001b[0m \u001b[0mshould_close\u001b[0m\u001b[1;33m:\u001b[0m\u001b[1;33m\u001b[0m\u001b[0m\n\u001b[0;32m    620\u001b[0m         \u001b[0mfilepath_or_buffer\u001b[0m\u001b[1;33m.\u001b[0m\u001b[0mclose\u001b[0m\u001b[1;33m(\u001b[0m\u001b[1;33m)\u001b[0m\u001b[1;33m\u001b[0m\u001b[0m\n",
      "\u001b[1;32mD:\\MyTools\\Anaconda3_5.2.0\\lib\\site-packages\\pandas\\io\\json\\_json.py\u001b[0m in \u001b[0;36mread\u001b[1;34m(self)\u001b[0m\n\u001b[0;32m    753\u001b[0m                 \u001b[0mobj\u001b[0m \u001b[1;33m=\u001b[0m \u001b[0mself\u001b[0m\u001b[1;33m.\u001b[0m\u001b[0m_get_object_parser\u001b[0m\u001b[1;33m(\u001b[0m\u001b[0mself\u001b[0m\u001b[1;33m.\u001b[0m\u001b[0m_combine_lines\u001b[0m\u001b[1;33m(\u001b[0m\u001b[0mdata\u001b[0m\u001b[1;33m)\u001b[0m\u001b[1;33m)\u001b[0m\u001b[1;33m\u001b[0m\u001b[0m\n\u001b[0;32m    754\u001b[0m         \u001b[1;32melse\u001b[0m\u001b[1;33m:\u001b[0m\u001b[1;33m\u001b[0m\u001b[0m\n\u001b[1;32m--> 755\u001b[1;33m             \u001b[0mobj\u001b[0m \u001b[1;33m=\u001b[0m \u001b[0mself\u001b[0m\u001b[1;33m.\u001b[0m\u001b[0m_get_object_parser\u001b[0m\u001b[1;33m(\u001b[0m\u001b[0mself\u001b[0m\u001b[1;33m.\u001b[0m\u001b[0mdata\u001b[0m\u001b[1;33m)\u001b[0m\u001b[1;33m\u001b[0m\u001b[0m\n\u001b[0m\u001b[0;32m    756\u001b[0m         \u001b[0mself\u001b[0m\u001b[1;33m.\u001b[0m\u001b[0mclose\u001b[0m\u001b[1;33m(\u001b[0m\u001b[1;33m)\u001b[0m\u001b[1;33m\u001b[0m\u001b[0m\n\u001b[0;32m    757\u001b[0m         \u001b[1;32mreturn\u001b[0m \u001b[0mobj\u001b[0m\u001b[1;33m\u001b[0m\u001b[0m\n",
      "\u001b[1;32mD:\\MyTools\\Anaconda3_5.2.0\\lib\\site-packages\\pandas\\io\\json\\_json.py\u001b[0m in \u001b[0;36m_get_object_parser\u001b[1;34m(self, json)\u001b[0m\n\u001b[0;32m    775\u001b[0m         \u001b[0mobj\u001b[0m \u001b[1;33m=\u001b[0m \u001b[1;32mNone\u001b[0m\u001b[1;33m\u001b[0m\u001b[0m\n\u001b[0;32m    776\u001b[0m         \u001b[1;32mif\u001b[0m \u001b[0mtyp\u001b[0m \u001b[1;33m==\u001b[0m \u001b[1;34m\"frame\"\u001b[0m\u001b[1;33m:\u001b[0m\u001b[1;33m\u001b[0m\u001b[0m\n\u001b[1;32m--> 777\u001b[1;33m             \u001b[0mobj\u001b[0m \u001b[1;33m=\u001b[0m \u001b[0mFrameParser\u001b[0m\u001b[1;33m(\u001b[0m\u001b[0mjson\u001b[0m\u001b[1;33m,\u001b[0m \u001b[1;33m**\u001b[0m\u001b[0mkwargs\u001b[0m\u001b[1;33m)\u001b[0m\u001b[1;33m.\u001b[0m\u001b[0mparse\u001b[0m\u001b[1;33m(\u001b[0m\u001b[1;33m)\u001b[0m\u001b[1;33m\u001b[0m\u001b[0m\n\u001b[0m\u001b[0;32m    778\u001b[0m \u001b[1;33m\u001b[0m\u001b[0m\n\u001b[0;32m    779\u001b[0m         \u001b[1;32mif\u001b[0m \u001b[0mtyp\u001b[0m \u001b[1;33m==\u001b[0m \u001b[1;34m\"series\"\u001b[0m \u001b[1;32mor\u001b[0m \u001b[0mobj\u001b[0m \u001b[1;32mis\u001b[0m \u001b[1;32mNone\u001b[0m\u001b[1;33m:\u001b[0m\u001b[1;33m\u001b[0m\u001b[0m\n",
      "\u001b[1;32mD:\\MyTools\\Anaconda3_5.2.0\\lib\\site-packages\\pandas\\io\\json\\_json.py\u001b[0m in \u001b[0;36mparse\u001b[1;34m(self)\u001b[0m\n\u001b[0;32m    884\u001b[0m \u001b[1;33m\u001b[0m\u001b[0m\n\u001b[0;32m    885\u001b[0m         \u001b[1;32melse\u001b[0m\u001b[1;33m:\u001b[0m\u001b[1;33m\u001b[0m\u001b[0m\n\u001b[1;32m--> 886\u001b[1;33m             \u001b[0mself\u001b[0m\u001b[1;33m.\u001b[0m\u001b[0m_parse_no_numpy\u001b[0m\u001b[1;33m(\u001b[0m\u001b[1;33m)\u001b[0m\u001b[1;33m\u001b[0m\u001b[0m\n\u001b[0m\u001b[0;32m    887\u001b[0m \u001b[1;33m\u001b[0m\u001b[0m\n\u001b[0;32m    888\u001b[0m         \u001b[1;32mif\u001b[0m \u001b[0mself\u001b[0m\u001b[1;33m.\u001b[0m\u001b[0mobj\u001b[0m \u001b[1;32mis\u001b[0m \u001b[1;32mNone\u001b[0m\u001b[1;33m:\u001b[0m\u001b[1;33m\u001b[0m\u001b[0m\n",
      "\u001b[1;32mD:\\MyTools\\Anaconda3_5.2.0\\lib\\site-packages\\pandas\\io\\json\\_json.py\u001b[0m in \u001b[0;36m_parse_no_numpy\u001b[1;34m(self)\u001b[0m\n\u001b[0;32m   1117\u001b[0m         \u001b[1;32mif\u001b[0m \u001b[0morient\u001b[0m \u001b[1;33m==\u001b[0m \u001b[1;34m\"columns\"\u001b[0m\u001b[1;33m:\u001b[0m\u001b[1;33m\u001b[0m\u001b[0m\n\u001b[0;32m   1118\u001b[0m             self.obj = DataFrame(\n\u001b[1;32m-> 1119\u001b[1;33m                 \u001b[0mloads\u001b[0m\u001b[1;33m(\u001b[0m\u001b[0mjson\u001b[0m\u001b[1;33m,\u001b[0m \u001b[0mprecise_float\u001b[0m\u001b[1;33m=\u001b[0m\u001b[0mself\u001b[0m\u001b[1;33m.\u001b[0m\u001b[0mprecise_float\u001b[0m\u001b[1;33m)\u001b[0m\u001b[1;33m,\u001b[0m \u001b[0mdtype\u001b[0m\u001b[1;33m=\u001b[0m\u001b[1;32mNone\u001b[0m\u001b[1;33m\u001b[0m\u001b[0m\n\u001b[0m\u001b[0;32m   1120\u001b[0m             )\n\u001b[0;32m   1121\u001b[0m         \u001b[1;32melif\u001b[0m \u001b[0morient\u001b[0m \u001b[1;33m==\u001b[0m \u001b[1;34m\"split\"\u001b[0m\u001b[1;33m:\u001b[0m\u001b[1;33m\u001b[0m\u001b[0m\n",
      "\u001b[1;31mValueError\u001b[0m: Expected object or value"
     ]
    }
   ],
   "source": [
    "df = pd.read_json(\"nav.json\",encoding=\"utf8\").T"
   ]
  },
  {
   "cell_type": "code",
   "execution_count": 50,
   "metadata": {},
   "outputs": [
    {
     "data": {
      "text/html": [
       "<div>\n",
       "<style scoped>\n",
       "    .dataframe tbody tr th:only-of-type {\n",
       "        vertical-align: middle;\n",
       "    }\n",
       "\n",
       "    .dataframe tbody tr th {\n",
       "        vertical-align: top;\n",
       "    }\n",
       "\n",
       "    .dataframe thead th {\n",
       "        text-align: right;\n",
       "    }\n",
       "</style>\n",
       "<table border=\"1\" class=\"dataframe\">\n",
       "  <thead>\n",
       "    <tr style=\"text-align: right;\">\n",
       "      <th></th>\n",
       "      <th>id</th>\n",
       "      <th>is_use</th>\n",
       "      <th>category</th>\n",
       "      <th>item</th>\n",
       "      <th>title</th>\n",
       "      <th>desc</th>\n",
       "      <th>url</th>\n",
       "      <th>icon</th>\n",
       "      <th>name</th>\n",
       "    </tr>\n",
       "  </thead>\n",
       "  <tbody>\n",
       "    <tr>\n",
       "      <th>0</th>\n",
       "      <td>54</td>\n",
       "      <td>1</td>\n",
       "      <td>Python 全栈</td>\n",
       "      <td>API接口</td>\n",
       "      <td>百度AI</td>\n",
       "      <td>百度旗下人工智能服务平台</td>\n",
       "      <td>https://ai.baidu.com/</td>\n",
       "      <td>./static/images/百度AI.jpg</td>\n",
       "      <td>info_54</td>\n",
       "    </tr>\n",
       "    <tr>\n",
       "      <th>1</th>\n",
       "      <td>55</td>\n",
       "      <td>1</td>\n",
       "      <td>Python 全栈</td>\n",
       "      <td>API接口</td>\n",
       "      <td>腾讯AI</td>\n",
       "      <td>腾讯旗下人工智能服务平台</td>\n",
       "      <td>https://cloud.tencent.com/product/ai-class</td>\n",
       "      <td>./static/images/腾讯AI.jpg</td>\n",
       "      <td>info_55</td>\n",
       "    </tr>\n",
       "    <tr>\n",
       "      <th>2</th>\n",
       "      <td>56</td>\n",
       "      <td>1</td>\n",
       "      <td>Python 全栈</td>\n",
       "      <td>API接口</td>\n",
       "      <td>阿里AI</td>\n",
       "      <td>阿里巴巴旗下人工智能服务平台</td>\n",
       "      <td>https://ai.aliyun.com/</td>\n",
       "      <td>./static/images/阿里AI.jpg</td>\n",
       "      <td>info_56</td>\n",
       "    </tr>\n",
       "    <tr>\n",
       "      <th>3</th>\n",
       "      <td>50</td>\n",
       "      <td>1</td>\n",
       "      <td>Python 全栈</td>\n",
       "      <td>Web模板</td>\n",
       "      <td>模板之家</td>\n",
       "      <td>前端全栈素材</td>\n",
       "      <td>http://www.cssmoban.com/</td>\n",
       "      <td>./static/images/模板之家.jpg</td>\n",
       "      <td>info_50</td>\n",
       "    </tr>\n",
       "    <tr>\n",
       "      <th>4</th>\n",
       "      <td>51</td>\n",
       "      <td>1</td>\n",
       "      <td>Python 全栈</td>\n",
       "      <td>Web模板</td>\n",
       "      <td>懒人之家</td>\n",
       "      <td>前端功能素材</td>\n",
       "      <td>https://www.lanrenzhijia.com/</td>\n",
       "      <td>./static/images/懒人之家.jpg</td>\n",
       "      <td>info_51</td>\n",
       "    </tr>\n",
       "  </tbody>\n",
       "</table>\n",
       "</div>"
      ],
      "text/plain": [
       "   id  is_use   category   item title            desc  \\\n",
       "0  54       1  Python 全栈  API接口  百度AI    百度旗下人工智能服务平台   \n",
       "1  55       1  Python 全栈  API接口  腾讯AI    腾讯旗下人工智能服务平台   \n",
       "2  56       1  Python 全栈  API接口  阿里AI  阿里巴巴旗下人工智能服务平台   \n",
       "3  50       1  Python 全栈  Web模板  模板之家          前端全栈素材   \n",
       "4  51       1  Python 全栈  Web模板  懒人之家          前端功能素材   \n",
       "\n",
       "                                          url                      icon  \\\n",
       "0                       https://ai.baidu.com/  ./static/images/百度AI.jpg   \n",
       "1  https://cloud.tencent.com/product/ai-class  ./static/images/腾讯AI.jpg   \n",
       "2                      https://ai.aliyun.com/  ./static/images/阿里AI.jpg   \n",
       "3                    http://www.cssmoban.com/  ./static/images/模板之家.jpg   \n",
       "4               https://www.lanrenzhijia.com/  ./static/images/懒人之家.jpg   \n",
       "\n",
       "      name  \n",
       "0  info_54  \n",
       "1  info_55  \n",
       "2  info_56  \n",
       "3  info_50  \n",
       "4  info_51  "
      ]
     },
     "execution_count": 50,
     "metadata": {},
     "output_type": "execute_result"
    }
   ],
   "source": [
    "df.head()"
   ]
  },
  {
   "cell_type": "markdown",
   "metadata": {},
   "source": [
    "# 读取整理的表格数据"
   ]
  },
  {
   "cell_type": "code",
   "execution_count": 51,
   "metadata": {},
   "outputs": [],
   "source": [
    "# 读取列表的数据\n",
    "df = pd.read_excel('DataSettings_siteinfo.xlsx')"
   ]
  },
  {
   "cell_type": "code",
   "execution_count": 52,
   "metadata": {},
   "outputs": [],
   "source": [
    "df = df[df[\"is_use\"]==1]"
   ]
  },
  {
   "cell_type": "code",
   "execution_count": 53,
   "metadata": {},
   "outputs": [
    {
     "data": {
      "text/html": [
       "<div>\n",
       "<style scoped>\n",
       "    .dataframe tbody tr th:only-of-type {\n",
       "        vertical-align: middle;\n",
       "    }\n",
       "\n",
       "    .dataframe tbody tr th {\n",
       "        vertical-align: top;\n",
       "    }\n",
       "\n",
       "    .dataframe thead th {\n",
       "        text-align: right;\n",
       "    }\n",
       "</style>\n",
       "<table border=\"1\" class=\"dataframe\">\n",
       "  <thead>\n",
       "    <tr style=\"text-align: right;\">\n",
       "      <th></th>\n",
       "      <th>id</th>\n",
       "      <th>is_use</th>\n",
       "      <th>category</th>\n",
       "      <th>item</th>\n",
       "      <th>title</th>\n",
       "      <th>desc</th>\n",
       "      <th>url</th>\n",
       "      <th>icon</th>\n",
       "      <th>name</th>\n",
       "    </tr>\n",
       "  </thead>\n",
       "  <tbody>\n",
       "    <tr>\n",
       "      <th>0</th>\n",
       "      <td>54</td>\n",
       "      <td>1</td>\n",
       "      <td>Python 全栈</td>\n",
       "      <td>API接口</td>\n",
       "      <td>百度AI</td>\n",
       "      <td>百度旗下人工智能服务平台</td>\n",
       "      <td>https://ai.baidu.com/</td>\n",
       "      <td>./static/images/百度AI.jpg</td>\n",
       "      <td>info_54</td>\n",
       "    </tr>\n",
       "    <tr>\n",
       "      <th>1</th>\n",
       "      <td>55</td>\n",
       "      <td>1</td>\n",
       "      <td>Python 全栈</td>\n",
       "      <td>API接口</td>\n",
       "      <td>腾讯AI</td>\n",
       "      <td>腾讯旗下人工智能服务平台</td>\n",
       "      <td>https://cloud.tencent.com/product/ai-class</td>\n",
       "      <td>./static/images/腾讯AI.jpg</td>\n",
       "      <td>info_55</td>\n",
       "    </tr>\n",
       "    <tr>\n",
       "      <th>2</th>\n",
       "      <td>56</td>\n",
       "      <td>1</td>\n",
       "      <td>Python 全栈</td>\n",
       "      <td>API接口</td>\n",
       "      <td>阿里AI</td>\n",
       "      <td>阿里巴巴旗下人工智能服务平台</td>\n",
       "      <td>https://ai.aliyun.com/</td>\n",
       "      <td>./static/images/阿里AI.jpg</td>\n",
       "      <td>info_56</td>\n",
       "    </tr>\n",
       "    <tr>\n",
       "      <th>3</th>\n",
       "      <td>50</td>\n",
       "      <td>1</td>\n",
       "      <td>Python 全栈</td>\n",
       "      <td>Web模板</td>\n",
       "      <td>模板之家</td>\n",
       "      <td>前端全栈素材</td>\n",
       "      <td>http://www.cssmoban.com/</td>\n",
       "      <td>./static/images/模板之家.jpg</td>\n",
       "      <td>info_50</td>\n",
       "    </tr>\n",
       "    <tr>\n",
       "      <th>4</th>\n",
       "      <td>51</td>\n",
       "      <td>1</td>\n",
       "      <td>Python 全栈</td>\n",
       "      <td>Web模板</td>\n",
       "      <td>懒人之家</td>\n",
       "      <td>前端功能素材</td>\n",
       "      <td>https://www.lanrenzhijia.com/</td>\n",
       "      <td>./static/images/懒人之家.jpg</td>\n",
       "      <td>info_51</td>\n",
       "    </tr>\n",
       "  </tbody>\n",
       "</table>\n",
       "</div>"
      ],
      "text/plain": [
       "   id  is_use   category   item title            desc  \\\n",
       "0  54       1  Python 全栈  API接口  百度AI    百度旗下人工智能服务平台   \n",
       "1  55       1  Python 全栈  API接口  腾讯AI    腾讯旗下人工智能服务平台   \n",
       "2  56       1  Python 全栈  API接口  阿里AI  阿里巴巴旗下人工智能服务平台   \n",
       "3  50       1  Python 全栈  Web模板  模板之家          前端全栈素材   \n",
       "4  51       1  Python 全栈  Web模板  懒人之家          前端功能素材   \n",
       "\n",
       "                                          url                      icon  \\\n",
       "0                       https://ai.baidu.com/  ./static/images/百度AI.jpg   \n",
       "1  https://cloud.tencent.com/product/ai-class  ./static/images/腾讯AI.jpg   \n",
       "2                      https://ai.aliyun.com/  ./static/images/阿里AI.jpg   \n",
       "3                    http://www.cssmoban.com/  ./static/images/模板之家.jpg   \n",
       "4               https://www.lanrenzhijia.com/  ./static/images/懒人之家.jpg   \n",
       "\n",
       "      name  \n",
       "0  info_54  \n",
       "1  info_55  \n",
       "2  info_56  \n",
       "3  info_50  \n",
       "4  info_51  "
      ]
     },
     "execution_count": 53,
     "metadata": {},
     "output_type": "execute_result"
    }
   ],
   "source": [
    "df.head()"
   ]
  },
  {
   "cell_type": "code",
   "execution_count": 54,
   "metadata": {
    "code_folding": []
   },
   "outputs": [
    {
     "data": {
      "text/html": [
       "<div>\n",
       "<style scoped>\n",
       "    .dataframe tbody tr th:only-of-type {\n",
       "        vertical-align: middle;\n",
       "    }\n",
       "\n",
       "    .dataframe tbody tr th {\n",
       "        vertical-align: top;\n",
       "    }\n",
       "\n",
       "    .dataframe thead th {\n",
       "        text-align: right;\n",
       "    }\n",
       "</style>\n",
       "<table border=\"1\" class=\"dataframe\">\n",
       "  <thead>\n",
       "    <tr style=\"text-align: right;\">\n",
       "      <th></th>\n",
       "      <th>title</th>\n",
       "      <th>name</th>\n",
       "      <th>icon</th>\n",
       "      <th>nav</th>\n",
       "    </tr>\n",
       "  </thead>\n",
       "  <tbody>\n",
       "    <tr>\n",
       "      <th>c_0</th>\n",
       "      <td>Python 全栈</td>\n",
       "      <td>c_0</td>\n",
       "      <td></td>\n",
       "      <td></td>\n",
       "    </tr>\n",
       "    <tr>\n",
       "      <th>c_1</th>\n",
       "      <td>办公常用</td>\n",
       "      <td>c_1</td>\n",
       "      <td></td>\n",
       "      <td></td>\n",
       "    </tr>\n",
       "    <tr>\n",
       "      <th>c_2</th>\n",
       "      <td>产品设计</td>\n",
       "      <td>c_2</td>\n",
       "      <td></td>\n",
       "      <td></td>\n",
       "    </tr>\n",
       "  </tbody>\n",
       "</table>\n",
       "</div>"
      ],
      "text/plain": [
       "         title name icon nav\n",
       "c_0  Python 全栈  c_0         \n",
       "c_1       办公常用  c_1         \n",
       "c_2       产品设计  c_2         "
      ]
     },
     "execution_count": 54,
     "metadata": {},
     "output_type": "execute_result"
    }
   ],
   "source": [
    "# 获取一级类别目录\n",
    "category_list = list(df[\"category\"].unique())\n",
    "category_dict = {}\n",
    "\n",
    "for c in range(len(category_list)):\n",
    "    category_dict[\"c_{}\".format(c)] = category_list[c]\n",
    "    \n",
    "# 创建一个空的数据框\n",
    "new_df_c = pd.Series(category_dict).to_frame()\n",
    "new_df_c.columns = [\"title\"]\n",
    "new_df_c[\"name\"] = new_df_c.index\n",
    "new_df_c[\"icon\"] = \"\"\n",
    "new_df_c[\"nav\"] = \"\"\n",
    "\n",
    "# # 按照类别聚合后的名录\n",
    "# group_df = df[[\"category\",\"name\"]].groupby([\"category\"]).apply(lambda x: pd.Series({c: x[c].tolist() for c in ['name']})).reset_index()\n",
    "# group_df.columns = [\"title\",\"name\"]\n",
    "# # 合并1及目录和所属关系\n",
    "# new_df = pd.merge(new_df,group_df,on=['title']) \n",
    "# # 字段重命名\n",
    "# new_df.rename(columns={\"name_x\":\"name\",\"name_y\":\"children\"}, inplace = True)\n",
    "\n",
    "new_df_c.head(3)"
   ]
  },
  {
   "cell_type": "code",
   "execution_count": 55,
   "metadata": {},
   "outputs": [
    {
     "data": {
      "text/html": [
       "<div>\n",
       "<style scoped>\n",
       "    .dataframe tbody tr th:only-of-type {\n",
       "        vertical-align: middle;\n",
       "    }\n",
       "\n",
       "    .dataframe tbody tr th {\n",
       "        vertical-align: top;\n",
       "    }\n",
       "\n",
       "    .dataframe thead th {\n",
       "        text-align: right;\n",
       "    }\n",
       "</style>\n",
       "<table border=\"1\" class=\"dataframe\">\n",
       "  <thead>\n",
       "    <tr style=\"text-align: right;\">\n",
       "      <th></th>\n",
       "      <th>title</th>\n",
       "      <th>name</th>\n",
       "      <th>icon</th>\n",
       "    </tr>\n",
       "  </thead>\n",
       "  <tbody>\n",
       "    <tr>\n",
       "      <th>i_0</th>\n",
       "      <td>API接口</td>\n",
       "      <td>i_0</td>\n",
       "      <td></td>\n",
       "    </tr>\n",
       "    <tr>\n",
       "      <th>i_1</th>\n",
       "      <td>Web模板</td>\n",
       "      <td>i_1</td>\n",
       "      <td></td>\n",
       "    </tr>\n",
       "    <tr>\n",
       "      <th>i_2</th>\n",
       "      <td>程序安装</td>\n",
       "      <td>i_2</td>\n",
       "      <td></td>\n",
       "    </tr>\n",
       "  </tbody>\n",
       "</table>\n",
       "</div>"
      ],
      "text/plain": [
       "     title name icon\n",
       "i_0  API接口  i_0     \n",
       "i_1  Web模板  i_1     \n",
       "i_2   程序安装  i_2     "
      ]
     },
     "execution_count": 55,
     "metadata": {},
     "output_type": "execute_result"
    }
   ],
   "source": [
    "# 获取二级类别目录\n",
    "item_list = list(df[\"item\"].unique())\n",
    "item_dict = {}\n",
    "for c in range(len(item_list)):\n",
    "    item_dict[\"i_{}\".format(c)] = item_list[c]\n",
    "    \n",
    "# 创建一个空的数据框\n",
    "new_df_i = pd.Series(item_dict).to_frame()\n",
    "new_df_i.columns = [\"title\"]\n",
    "new_df_i[\"name\"] = new_df_i.index\n",
    "new_df_i[\"icon\"] = \"\"\n",
    "\n",
    "new_df_i.head(3)"
   ]
  },
  {
   "cell_type": "code",
   "execution_count": 56,
   "metadata": {},
   "outputs": [],
   "source": [
    "# 拼接数据\n",
    "new_df = new_df_c.append(new_df_i)\n",
    "\n",
    "# 构建转换title的字典\n",
    "temp_dict = new_df.set_index(\"title\")[\"name\"].to_dict()\n",
    "# temp_dict\n",
    "\n",
    "# 构建临时使用的对应字典\n",
    "temp_df = df[[\"item\",\"category\"]].groupby([\"category\"]).apply(lambda x: pd.Series({c: list(set(x[c].tolist())) for c in ['item']})).reset_index()\n",
    "\n",
    "def change_list(data):\n",
    "    return [temp_dict[i] for i in data]\n",
    "# 转换对应的类别\n",
    "temp_df[\"new_item\"] = temp_df.item.apply(change_list)\n",
    "temp_df = temp_df[[\"category\",\"new_item\"]]\n",
    "temp_df.columns = [\"title\",\"children\"]\n",
    "\n",
    "# 重新拼接构建索引\n",
    "new_df = pd.merge(new_df,temp_df,on=['title'],how=\"outer\") \n",
    "new_df.index = new_df[\"name\"].to_list()"
   ]
  },
  {
   "cell_type": "code",
   "execution_count": 57,
   "metadata": {},
   "outputs": [
    {
     "name": "stderr",
     "output_type": "stream",
     "text": [
      "D:\\MyTools\\Anaconda3_5.2.0\\lib\\site-packages\\ipykernel_launcher.py:6: FutureWarning: Indexing with multiple keys (implicitly converted to a tuple of keys) will be deprecated, use a list instead.\n",
      "  \n"
     ]
    }
   ],
   "source": [
    "# 读取列表的数据\n",
    "df = pd.read_excel('DataSettings_siteinfo.xlsx')\n",
    "df = df[df[\"is_use\"]==1]\n",
    "# 临时改变df拼接的字段名称\n",
    "df.rename(columns={\"title\":\"name\",\"url\":\"link\",\"name\":\"name_\"},inplace=True)\n",
    "temp_df = df.groupby([\"item\"])[\"icon\",\"name\",\"desc\",\"link\"].apply(lambda x: x.to_dict(orient=\"records\")).reset_index(name=\"nav\")\n",
    "temp_df.rename(columns={\"item\":\"title\"},inplace=True)\n",
    "# 拼接news_df数据\n",
    "new_df = pd.merge(new_df,temp_df,on=['title'],how=\"outer\") \n",
    "# 删除无用列\n",
    "new_df.drop(\"nav_x\",axis=1,inplace=True)\n",
    "# 重命名列\n",
    "new_df.rename(columns={\"nav_y\":\"nav\"},inplace=True)\n",
    "# 重新定义索引列\n",
    "new_df.index = new_df[\"name\"].tolist()"
   ]
  },
  {
   "cell_type": "code",
   "execution_count": 60,
   "metadata": {},
   "outputs": [],
   "source": [
    "data_json = new_df.T.to_json(force_ascii=False)"
   ]
  },
  {
   "cell_type": "code",
   "execution_count": 61,
   "metadata": {},
   "outputs": [],
   "source": [
    "with open(\"nav.json\",'w+',encoding='utf8') as f:\n",
    "    f.write(str(data_json))"
   ]
  },
  {
   "cell_type": "code",
   "execution_count": 32,
   "metadata": {},
   "outputs": [],
   "source": []
  },
  {
   "cell_type": "code",
   "execution_count": null,
   "metadata": {},
   "outputs": [],
   "source": []
  },
  {
   "cell_type": "code",
   "execution_count": null,
   "metadata": {},
   "outputs": [],
   "source": []
  },
  {
   "cell_type": "code",
   "execution_count": null,
   "metadata": {},
   "outputs": [],
   "source": []
  }
 ],
 "metadata": {
  "kernelspec": {
   "display_name": "Python 3",
   "language": "python",
   "name": "python3"
  },
  "language_info": {
   "codemirror_mode": {
    "name": "ipython",
    "version": 3
   },
   "file_extension": ".py",
   "mimetype": "text/x-python",
   "name": "python",
   "nbconvert_exporter": "python",
   "pygments_lexer": "ipython3",
   "version": "3.6.5"
  },
  "toc": {
   "base_numbering": 1,
   "nav_menu": {},
   "number_sections": true,
   "sideBar": true,
   "skip_h1_title": false,
   "title_cell": "Table of Contents",
   "title_sidebar": "Contents",
   "toc_cell": false,
   "toc_position": {},
   "toc_section_display": true,
   "toc_window_display": false
  }
 },
 "nbformat": 4,
 "nbformat_minor": 2
}
